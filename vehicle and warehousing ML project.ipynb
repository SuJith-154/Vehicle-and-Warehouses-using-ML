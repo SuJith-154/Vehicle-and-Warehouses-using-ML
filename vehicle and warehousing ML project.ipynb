{
  "nbformat": 4,
  "nbformat_minor": 0,
  "metadata": {
    "colab": {
      "provenance": []
    },
    "kernelspec": {
      "name": "python3",
      "display_name": "Python 3"
    },
    "language_info": {
      "name": "python"
    }
  },
  "cells": [
    {
      "cell_type": "code",
      "execution_count": 83,
      "metadata": {
        "id": "5puGjqHgMnx9",
        "colab": {
          "base_uri": "https://localhost:8080/"
        },
        "outputId": "15fe3369-e694-4b7b-ded9-ec7e7bf3ece2"
      },
      "outputs": [
        {
          "output_type": "stream",
          "name": "stdout",
          "text": [
            "Requirement already satisfied: matplotlib in /usr/local/lib/python3.10/dist-packages (3.10.0)\n",
            "Requirement already satisfied: deap in /usr/local/lib/python3.10/dist-packages (1.4.1)\n",
            "Requirement already satisfied: contourpy>=1.0.1 in /usr/local/lib/python3.10/dist-packages (from matplotlib) (1.3.1)\n",
            "Requirement already satisfied: cycler>=0.10 in /usr/local/lib/python3.10/dist-packages (from matplotlib) (0.12.1)\n",
            "Requirement already satisfied: fonttools>=4.22.0 in /usr/local/lib/python3.10/dist-packages (from matplotlib) (4.55.3)\n",
            "Requirement already satisfied: kiwisolver>=1.3.1 in /usr/local/lib/python3.10/dist-packages (from matplotlib) (1.4.8)\n",
            "Requirement already satisfied: numpy>=1.23 in /usr/local/lib/python3.10/dist-packages (from matplotlib) (1.26.4)\n",
            "Requirement already satisfied: packaging>=20.0 in /usr/local/lib/python3.10/dist-packages (from matplotlib) (24.2)\n",
            "Requirement already satisfied: pillow>=8 in /usr/local/lib/python3.10/dist-packages (from matplotlib) (11.1.0)\n",
            "Requirement already satisfied: pyparsing>=2.3.1 in /usr/local/lib/python3.10/dist-packages (from matplotlib) (3.2.1)\n",
            "Requirement already satisfied: python-dateutil>=2.7 in /usr/local/lib/python3.10/dist-packages (from matplotlib) (2.8.2)\n",
            "Requirement already satisfied: six>=1.5 in /usr/local/lib/python3.10/dist-packages (from python-dateutil>=2.7->matplotlib) (1.17.0)\n"
          ]
        }
      ],
      "source": [
        "!pip install matplotlib deap\n",
        "import numpy as np\n",
        "import matplotlib.pyplot as plt\n",
        "import pandas as pd\n",
        "import random\n",
        "from deap import tools,base,creator,algorithms"
      ]
    },
    {
      "cell_type": "code",
      "source": [
        "# TODO: Task 2 - Define the number of locations and vehicles\n",
        "\n",
        "num_locations = 10 # Define the number of locations (eg 10)\n",
        "\n",
        "locations = [(random.randint(0, 100), random.randint(0, 100)) for _ in range(num_locations)] # Create a list of tuples representing location coordinates -\n",
        "            # try to use a random number generator\n",
        "            # (x, y) could be between 0 and 100\n",
        "\n",
        "depot = (25,25)# Define the coordinates for the depot\n",
        "\n",
        "num_vehicles = 2# Define the number of vehicles - (eg 3)"
      ],
      "metadata": {
        "id": "KWk2KjnBP1Vw"
      },
      "execution_count": 95,
      "outputs": []
    },
    {
      "cell_type": "code",
      "source": [
        "# TASK 3 - Genetic Algorithm Setup\n",
        "       # - Figure out how to represent an individual OR encode an individual\n",
        "\n",
        "creator.create(\"FitnessMin\",base.Fitness, weights=(-1.0,) )\n",
        "creator.create(\"Individual\",list,fitness=creator.FitnessMin )"
      ],
      "metadata": {
        "id": "UqmQh8BZS6sX"
      },
      "execution_count": 96,
      "outputs": []
    },
    {
      "cell_type": "code",
      "source": [
        "#TASK 4 - Starting with the toolbox and tools\n",
        "\n",
        "toolbox = base.Toolbox()\n",
        "toolbox.register(\"indices\", random.sample, range(num_locations), num_locations)\n",
        "toolbox.register(\"individual\", tools.initIterate ,creator.Individual, toolbox.indices)#finish defining how to build an individual)\n",
        "toolbox.register(\"population\", tools.initRepeat, list, toolbox.individual) #finish defining how to build an population)"
      ],
      "metadata": {
        "id": "wknaZJMvTJ0E"
      },
      "execution_count": 97,
      "outputs": []
    },
    {
      "cell_type": "code",
      "source": [
        "def evalVRP(individual):\n",
        "    total_distance = 0\n",
        "    distances = []  # Track distance traveled by each vehicle for balance calculation\n",
        "    # Split the list of locations among vehicles, ensuring each starts and ends at the depot\n",
        "    for i in range(num_vehicles):\n",
        "\n",
        "        vehicle_route = [depot] + [locations[individual[j]] for j in range(i, len(individual), num_vehicles)] + [depot]\n",
        "\n",
        "        vehicle_distance = 0\n",
        "        for j in range(len(vehicle_route) - 1):\n",
        "            vehicle_distance += np.linalg.norm(np.array(vehicle_route[j+1]) - np.array(vehicle_route[j]))\n",
        "\n",
        "        total_distance += vehicle_distance\n",
        "        distances.append(vehicle_distance)\n",
        "\n",
        "    balance_penalty = np.std(distances)  # Use standard deviation of distances as a penalty for imbalance among vehicles\n",
        "    return (total_distance+0.1*balance_penalty,)\n",
        "\n",
        "toolbox.register(\"evaluate\", evalVRP)"
      ],
      "metadata": {
        "id": "7y0s5No_eafm"
      },
      "execution_count": 98,
      "outputs": []
    },
    {
      "cell_type": "code",
      "source": [
        "toolbox.register(\"select\", tools.selTournament, tournsize=3)\n",
        "toolbox.register(\"mate\", tools.cxOrdered)\n",
        "toolbox.register(\"mutate\", tools.mutShuffleIndexes, indpb=0.5)"
      ],
      "metadata": {
        "id": "k8jhvzMO2Q0Z"
      },
      "execution_count": 99,
      "outputs": []
    },
    {
      "cell_type": "code",
      "source": [
        "# Plotting Function\n",
        "def plot_routes(individual, title=\"Routes\"):\n",
        "    plt.figure()\n",
        "    # Plot locations as blue dots and the depot as a red square\n",
        "    for (x, y) in locations:\n",
        "        plt.plot(x, y, 'ko')\n",
        "    plt.plot(depot[0], depot[1], 'rs')\n",
        "\n",
        "    # Draw routes for each vehicle\n",
        "    for i in range(num_vehicles):\n",
        "        vehicle_route = [depot] + [locations[individual[j]] for j in range(i, len(individual), num_vehicles)] + [depot]\n",
        "        plt.plot(*zip(*vehicle_route), '-', 'rs')\n",
        "\n",
        "    plt.title(title)\n",
        "    plt.xlabel('X Coordinate')\n",
        "    plt.ylabel('Y Coordinate')\n",
        "    plt.show()\n",
        "\n"
      ],
      "metadata": {
        "id": "BMt74gk5LbTy"
      },
      "execution_count": 100,
      "outputs": []
    },
    {
      "cell_type": "code",
      "source": [
        "# Running the Genetic Algorithm\n",
        "def main():\n",
        "    random.seed(1)\n",
        "    pop = toolbox.population(n=300)\n",
        "    hof = tools.HallOfFame(1)\n",
        "\n",
        "    stats = tools.Statistics(lambda ind: ind.fitness.values)\n",
        "    stats.register(\"avg\", np.mean)\n",
        "    stats.register(\"min\", np.min)\n",
        "\n",
        "    algorithms.eaSimple(pop, toolbox, 0.7, 0.2, 30, stats=stats, halloffame=hof)\n",
        "\n",
        "    #Refer eaSimple here - https://deap.readthedocs.io/en/master/api/algo.html\n",
        "    plot_routes(hof[0], \"Optimal Route\")\n",
        "    return pop, stats, hof\n",
        "\n",
        "if __name__ == \"__main__\":\n",
        "    # TODO: Task 9 - Call the main function, run the algorithm and print the results\n",
        "    pop, stats, hof = main()\n",
        "    print(\"Best individual found is: \", hof[0])\n",
        "    print(\"Fitness of the best individual: \", hof[0].fitness.values)\n"
      ],
      "metadata": {
        "id": "jsQlZIk9SNDD",
        "colab": {
          "base_uri": "https://localhost:8080/",
          "height": 1000
        },
        "outputId": "fe906d50-2c17-48fa-a2a3-da09b2b369a2"
      },
      "execution_count": 101,
      "outputs": [
        {
          "output_type": "stream",
          "name": "stdout",
          "text": [
            "gen\tnevals\tavg    \tmin    \n",
            "0  \t300   \t631.863\t471.166\n",
            "1  \t232   \t604.179\t443.592\n",
            "2  \t231   \t586.99 \t443.592\n",
            "3  \t228   \t583.326\t436.352\n",
            "4  \t226   \t576.482\t447.087\n",
            "5  \t233   \t566.38 \t423.529\n",
            "6  \t237   \t570.677\t423.529\n",
            "7  \t219   \t560.953\t423.529\n",
            "8  \t234   \t567.127\t428.659\n",
            "9  \t219   \t567.967\t428.659\n",
            "10 \t237   \t564.765\t434.371\n",
            "11 \t219   \t557.33 \t423.529\n",
            "12 \t239   \t550.706\t421.171\n",
            "13 \t240   \t553.291\t423.529\n",
            "14 \t238   \t540.284\t421.954\n",
            "15 \t220   \t529.492\t421.954\n",
            "16 \t229   \t531.507\t416.819\n",
            "17 \t229   \t523.339\t416.819\n",
            "18 \t235   \t516.288\t416.819\n",
            "19 \t215   \t506.94 \t416.819\n",
            "20 \t228   \t508.085\t416.819\n",
            "21 \t233   \t508.064\t416.089\n",
            "22 \t241   \t500.893\t416.089\n",
            "23 \t220   \t502.184\t416.819\n",
            "24 \t224   \t504.892\t415.415\n",
            "25 \t218   \t486.882\t415.415\n",
            "26 \t231   \t469.014\t415.415\n",
            "27 \t224   \t455.655\t415.415\n",
            "28 \t237   \t457.734\t415.415\n",
            "29 \t223   \t454.781\t415.415\n",
            "30 \t221   \t460.359\t415.415\n"
          ]
        },
        {
          "output_type": "display_data",
          "data": {
            "text/plain": [
              "<Figure size 640x480 with 1 Axes>"
            ],
            "image/png": "[encoded data removed]"
          },
          "metadata": {}
        },
        {
          "output_type": "stream",
          "name": "stdout",
          "text": [
            "Best individual found is:  [5, 2, 3, 9, 6, 0, 7, 8, 1, 4]\n",
            "Fitness of the best individual:  (415.41496220243647,)\n"
          ]
        }
      ]
    }
  ]
}